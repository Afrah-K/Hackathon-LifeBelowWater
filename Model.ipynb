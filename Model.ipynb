{
 "cells": [
  {
   "cell_type": "code",
   "execution_count": null,
   "metadata": {},
   "outputs": [],
   "source": [
    "import os\n",
    "from keras.utils import load_img, img_to_array\n",
    "import numpy as np\n",
    "from labelImg.labelImg import LabelImgMainWindow"
   ]
  },
  {
   "cell_type": "code",
   "execution_count": null,
   "metadata": {},
   "outputs": [],
   "source": [
    "#Path and load dataset into array\n",
    "\n",
    "train_dir = r\"dataset\\Train\"\n",
    "test_dir = r\"dataset\\Test\"\n",
    "\n",
    "train = []\n",
    "test = []\n",
    "\n",
    "\n",
    "\n",
    "train_path  = os.path.join(train_dir, \"Train\")\n",
    "for img_name in os.listdir(train_path):\n",
    "    img_path = os.path.join(train_path, img_name)\n",
    "    img = load_img(img_path, img_name)\n",
    "    img_array = img_to_array(img)\n",
    "    train.append(img_array)\n",
    "    \n",
    "test_path  = os.path.join(test_dir, \"Test\")\n",
    "for img_name in os.listdir(test_path):\n",
    "    img_path = os.path.join(test_path, img_name)\n",
    "    img = load_img(img_path, img_name)\n",
    "    img_array = img_to_array(img)\n",
    "    test.append(img_array)\n",
    "    \n",
    "train = np.array(train)\n",
    "test = np.array(test)"
   ]
  },
  {
   "cell_type": "code",
   "execution_count": null,
   "metadata": {},
   "outputs": [],
   "source": [
    "#Load Dataset into LabelImg for Labelling\n"
   ]
  }
 ],
 "metadata": {
  "kernelspec": {
   "display_name": "myenv",
   "language": "python",
   "name": "python3"
  },
  "language_info": {
   "name": "python",
   "version": "3.11.0"
  },
  "orig_nbformat": 4
 },
 "nbformat": 4,
 "nbformat_minor": 2
}
